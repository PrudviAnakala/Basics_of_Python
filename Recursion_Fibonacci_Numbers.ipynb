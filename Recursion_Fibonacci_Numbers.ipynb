{
  "nbformat": 4,
  "nbformat_minor": 0,
  "metadata": {
    "colab": {
      "name": "Recursion: Fibonacci Numbers.ipynb",
      "provenance": [],
      "authorship_tag": "ABX9TyOmsg+pQWSxoulNiUStZHBj",
      "include_colab_link": true
    },
    "kernelspec": {
      "name": "python3",
      "display_name": "Python 3"
    }
  },
  "cells": [
    {
      "cell_type": "markdown",
      "metadata": {
        "id": "view-in-github",
        "colab_type": "text"
      },
      "source": [
        "<a href=\"https://colab.research.google.com/github/PrudviAnakala/Basics_of_Python/blob/master/Recursion_Fibonacci_Numbers.ipynb\" target=\"_parent\"><img src=\"https://colab.research.google.com/assets/colab-badge.svg\" alt=\"Open In Colab\"/></a>"
      ]
    },
    {
      "cell_type": "code",
      "metadata": {
        "id": "NDhRijbzNLv1",
        "colab_type": "code",
        "colab": {
          "base_uri": "https://localhost:8080/",
          "height": 67
        },
        "outputId": "4fb1166b-faeb-4249-8fda-86d269ea1eea"
      },
      "source": [
        "def fibonacci(n):\n",
        "    if(n==0):\n",
        "        return 0\n",
        "    elif(n==1 or n==2):\n",
        "        return 1\n",
        "    else:\n",
        "        return fibonacci(n-1) + fibonacci(n-2)\n",
        "\n",
        "n = int(input())\n",
        "print('')\n",
        "print(fibonacci(n))"
      ],
      "execution_count": 3,
      "outputs": [
        {
          "output_type": "stream",
          "text": [
            "3\n",
            "\n",
            "2\n"
          ],
          "name": "stdout"
        }
      ]
    }
  ]
}