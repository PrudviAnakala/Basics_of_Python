{
  "nbformat": 4,
  "nbformat_minor": 0,
  "metadata": {
    "colab": {
      "name": "Classes: Dealing with Complex Numbers.ipynb",
      "provenance": [],
      "authorship_tag": "ABX9TyPfNU+IJcn9GETCzJqo14xN",
      "include_colab_link": true
    },
    "kernelspec": {
      "name": "python3",
      "display_name": "Python 3"
    }
  },
  "cells": [
    {
      "cell_type": "markdown",
      "metadata": {
        "id": "view-in-github",
        "colab_type": "text"
      },
      "source": [
        "<a href=\"https://colab.research.google.com/github/PrudviAnakala/Basics_of_Python/blob/master/Classes_Dealing_with_Complex_Numbers.ipynb\" target=\"_parent\"><img src=\"https://colab.research.google.com/assets/colab-badge.svg\" alt=\"Open In Colab\"/></a>"
      ]
    },
    {
      "cell_type": "code",
      "metadata": {
        "id": "M-TlXG14MItX",
        "colab_type": "code",
        "colab": {
          "base_uri": "https://localhost:8080/",
          "height": 168
        },
        "outputId": "2e989a34-f02e-45ae-bc20-fc1afc1fd5c6"
      },
      "source": [
        "import math\n",
        "class Complex(complex):\n",
        "    def __add__(self, no):\n",
        "        return Complex(complex.__add__(self, no))\n",
        "\n",
        "    def __sub__(self, no):\n",
        "        return Complex(complex.__sub__(self, no))\n",
        "\n",
        "    def __mul__(self, no):\n",
        "        return Complex(complex.__mul__(self, no))\n",
        "\n",
        "    def __truediv__(self, no):\n",
        "        return Complex(complex.__truediv__(self, no))\n",
        "\n",
        "    def mod(self):\n",
        "        return Complex(complex.__abs__(self))\n",
        "\n",
        "    def __str__(self):\n",
        "      return '{0:04.2f}{1:+04.2f}i'.format(self.real, self.imag+0)\n",
        "if __name__ == '__main__':\n",
        "    c = map(float, input().split())\n",
        "    d = map(float, input().split())\n",
        "    x = Complex(*c)\n",
        "    y = Complex(*d)\n",
        "    print('')\n",
        "    print(*map(str, [x+y, x-y, x*y, x/y, x.mod(), y.mod()]), sep='\\n')"
      ],
      "execution_count": 3,
      "outputs": [
        {
          "output_type": "stream",
          "text": [
            "2 1\n",
            "5 6\n",
            "\n",
            "7.00+7.00i\n",
            "-3.00-5.00i\n",
            "4.00+17.00i\n",
            "0.26-0.11i\n",
            "2.24+0.00i\n",
            "7.81+0.00i\n"
          ],
          "name": "stdout"
        }
      ]
    }
  ]
}