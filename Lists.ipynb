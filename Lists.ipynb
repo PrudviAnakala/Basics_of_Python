{
  "nbformat": 4,
  "nbformat_minor": 0,
  "metadata": {
    "colab": {
      "name": "Lists.ipynb",
      "provenance": [],
      "authorship_tag": "ABX9TyMvUaqlPe3IyWs0R7iyS8Bm",
      "include_colab_link": true
    },
    "kernelspec": {
      "name": "python3",
      "display_name": "Python 3"
    }
  },
  "cells": [
    {
      "cell_type": "markdown",
      "metadata": {
        "id": "view-in-github",
        "colab_type": "text"
      },
      "source": [
        "<a href=\"https://colab.research.google.com/github/PrudviAnakala/Basics_of_Python/blob/master/Lists.ipynb\" target=\"_parent\"><img src=\"https://colab.research.google.com/assets/colab-badge.svg\" alt=\"Open In Colab\"/></a>"
      ]
    },
    {
      "cell_type": "code",
      "metadata": {
        "id": "lGLwwT63JuoV",
        "colab_type": "code",
        "colab": {
          "base_uri": "https://localhost:8080/",
          "height": 286
        },
        "outputId": "e861a31f-feee-4f24-e208-00a112d35585"
      },
      "source": [
        "N = int(input())\n",
        "    \n",
        "l = []\n",
        "    \n",
        "for i in range(N): \n",
        "    a = input().split()\n",
        "    if a[0] == 'print':\n",
        "        print(l)\n",
        "    elif a[0] == 'append':\n",
        "        l.append(int(a[1]))\n",
        "    elif a[0] == 'insert':\n",
        "        l.insert(int(a[1]),int(a[2]))\n",
        "    elif a[0] == 'remove':\n",
        "        l.remove(int(a[1]))\n",
        "    elif a[0] == 'pop':\n",
        "        l.pop()\n",
        "    elif a[0] == 'sort':\n",
        "        l.sort()\n",
        "    elif a[0] == 'reverse':\n",
        "        l.reverse()"
      ],
      "execution_count": 1,
      "outputs": [
        {
          "output_type": "stream",
          "text": [
            "12\n",
            "insert 0 5\n",
            "insert 1 10\n",
            "insert 0 6\n",
            "print\n",
            "[6, 5, 10]\n",
            "remove 6\n",
            "append 9\n",
            "append 1\n",
            "sort\n",
            "print\n",
            "[1, 5, 9, 10]\n",
            "pop\n",
            "reverse\n",
            "print\n",
            "[9, 5, 1]\n"
          ],
          "name": "stdout"
        }
      ]
    }
  ]
}