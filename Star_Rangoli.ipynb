{
  "nbformat": 4,
  "nbformat_minor": 0,
  "metadata": {
    "colab": {
      "name": "Star Rangoli.ipynb",
      "provenance": [],
      "authorship_tag": "ABX9TyM8ubPr5BDBaP6GRiNcVj+b",
      "include_colab_link": true
    },
    "kernelspec": {
      "name": "python3",
      "display_name": "Python 3"
    }
  },
  "cells": [
    {
      "cell_type": "markdown",
      "metadata": {
        "id": "view-in-github",
        "colab_type": "text"
      },
      "source": [
        "<a href=\"https://colab.research.google.com/github/PrudviAnakala/Basics_of_Python/blob/master/Star_Rangoli.ipynb\" target=\"_parent\"><img src=\"https://colab.research.google.com/assets/colab-badge.svg\" alt=\"Open In Colab\"/></a>"
      ]
    },
    {
      "cell_type": "code",
      "metadata": {
        "id": "IuD0eVnXoDel",
        "colab_type": "code",
        "colab": {
          "base_uri": "https://localhost:8080/",
          "height": 202
        },
        "outputId": "568c69da-3449-4059-8bd6-8d8d55c433eb"
      },
      "source": [
        "n=int(input())\n",
        "print('')\n",
        "for i in range(2*n-1):\n",
        "    for j in range(i):\n",
        "        print(\" \",end='')\n",
        "    for k in range(2*n-1-i):\n",
        "        print(\"*\",end='')\n",
        "    print(\"\")\n",
        "for i in range(1,2*n-1):\n",
        "    for j in range(2*n-2-i):\n",
        "        print(\" \",end='')\n",
        "    for k in range(i+1):\n",
        "        print(\"*\",end='')\n",
        "    print(\"\")"
      ],
      "execution_count": 2,
      "outputs": [
        {
          "output_type": "stream",
          "text": [
            "3\n",
            "\n",
            "*****\n",
            " ****\n",
            "  ***\n",
            "   **\n",
            "    *\n",
            "   **\n",
            "  ***\n",
            " ****\n",
            "*****\n"
          ],
          "name": "stdout"
        }
      ]
    }
  ]
}