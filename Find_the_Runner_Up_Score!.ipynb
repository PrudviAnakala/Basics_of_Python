{
  "nbformat": 4,
  "nbformat_minor": 0,
  "metadata": {
    "colab": {
      "name": "Find the Runner-Up Score!.ipynb",
      "provenance": [],
      "authorship_tag": "ABX9TyPXVpj3Nw9U6w/5vBXa9ucY",
      "include_colab_link": true
    },
    "kernelspec": {
      "name": "python3",
      "display_name": "Python 3"
    }
  },
  "cells": [
    {
      "cell_type": "markdown",
      "metadata": {
        "id": "view-in-github",
        "colab_type": "text"
      },
      "source": [
        "<a href=\"https://colab.research.google.com/github/PrudviAnakala/Basics_of_Python/blob/master/Find_the_Runner_Up_Score!.ipynb\" target=\"_parent\"><img src=\"https://colab.research.google.com/assets/colab-badge.svg\" alt=\"Open In Colab\"/></a>"
      ]
    },
    {
      "cell_type": "code",
      "metadata": {
        "id": "BIJlzlTQI3i8",
        "colab_type": "code",
        "colab": {
          "base_uri": "https://localhost:8080/",
          "height": 84
        },
        "outputId": "86f473f2-cab9-4034-93e3-3a008a14b068"
      },
      "source": [
        "n=int(input())\n",
        "arr=list(map(int,input().split()))\n",
        "print('')\n",
        "largest=max(arr)\n",
        "for i in range (n):\n",
        "    if largest==max(arr):\n",
        "        arr.remove(max(arr))\n",
        "print(max(arr))"
      ],
      "execution_count": 8,
      "outputs": [
        {
          "output_type": "stream",
          "text": [
            "5\n",
            "2 3 6 6 5\n",
            "\n",
            "5\n"
          ],
          "name": "stdout"
        }
      ]
    }
  ]
}