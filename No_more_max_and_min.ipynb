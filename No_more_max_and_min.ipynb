{
  "nbformat": 4,
  "nbformat_minor": 0,
  "metadata": {
    "colab": {
      "name": "No more max and min.ipynb",
      "provenance": [],
      "authorship_tag": "ABX9TyMbtZnygMUL6ifbUnqYn6vG",
      "include_colab_link": true
    },
    "kernelspec": {
      "name": "python3",
      "display_name": "Python 3"
    }
  },
  "cells": [
    {
      "cell_type": "markdown",
      "metadata": {
        "id": "view-in-github",
        "colab_type": "text"
      },
      "source": [
        "<a href=\"https://colab.research.google.com/github/PrudviAnakala/Basics_of_Python/blob/master/No_more_max_and_min.ipynb\" target=\"_parent\"><img src=\"https://colab.research.google.com/assets/colab-badge.svg\" alt=\"Open In Colab\"/></a>"
      ]
    },
    {
      "cell_type": "code",
      "metadata": {
        "id": "Qw-EFZczP7we",
        "colab_type": "code",
        "colab": {
          "base_uri": "https://localhost:8080/",
          "height": 84
        },
        "outputId": "3dbbe4e5-60eb-4843-c645-f71a2c84685a"
      },
      "source": [
        "n=int(input())\n",
        "arr=list(map(int,input().split()))\n",
        "print('')\n",
        "large=max(arr)\n",
        "small=min(arr)\n",
        "arr.remove(large)\n",
        "arr.remove(small)\n",
        "print(sum(arr))"
      ],
      "execution_count": 2,
      "outputs": [
        {
          "output_type": "stream",
          "text": [
            "5\n",
            "1 2 5 4 3\n",
            "\n",
            "9\n"
          ],
          "name": "stdout"
        }
      ]
    }
  ]
}