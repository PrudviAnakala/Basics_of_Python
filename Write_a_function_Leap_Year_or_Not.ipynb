{
  "nbformat": 4,
  "nbformat_minor": 0,
  "metadata": {
    "colab": {
      "name": "Write a function-Leap Year or Not.ipynb",
      "provenance": [],
      "authorship_tag": "ABX9TyOw4wFg1+3OLJFqogSHcoUG",
      "include_colab_link": true
    },
    "kernelspec": {
      "name": "python3",
      "display_name": "Python 3"
    }
  },
  "cells": [
    {
      "cell_type": "markdown",
      "metadata": {
        "id": "view-in-github",
        "colab_type": "text"
      },
      "source": [
        "<a href=\"https://colab.research.google.com/github/PrudviAnakala/Basics_of_Python/blob/master/Write_a_function_Leap_Year_or_Not.ipynb\" target=\"_parent\"><img src=\"https://colab.research.google.com/assets/colab-badge.svg\" alt=\"Open In Colab\"/></a>"
      ]
    },
    {
      "cell_type": "code",
      "metadata": {
        "id": "4_Dh7J8FEsKp",
        "colab_type": "code",
        "colab": {
          "base_uri": "https://localhost:8080/",
          "height": 50
        },
        "outputId": "8bf1e2a5-1470-49b4-fb8e-f6a417bc1063"
      },
      "source": [
        "def is_leap(year):\n",
        "    leap = False\n",
        "    if(year%400==0):\n",
        "        leap=True\n",
        "    elif(year%100==0):\n",
        "        leap=False\n",
        "    elif(year%4==0):\n",
        "        leap=True\n",
        "    return leap\n",
        "year = int(input())\n",
        "print(is_leap(year))"
      ],
      "execution_count": 8,
      "outputs": [
        {
          "output_type": "stream",
          "text": [
            "1990\n",
            "False\n"
          ],
          "name": "stdout"
        }
      ]
    }
  ]
}